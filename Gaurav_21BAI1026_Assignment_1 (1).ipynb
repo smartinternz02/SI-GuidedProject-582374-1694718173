{
  "nbformat": 4,
  "nbformat_minor": 0,
  "metadata": {
    "colab": {
      "provenance": []
    },
    "kernelspec": {
      "name": "python3",
      "display_name": "Python 3"
    },
    "language_info": {
      "name": "python"
    }
  },
  "cells": [
    {
      "cell_type": "markdown",
      "source": [],
      "metadata": {
        "id": "iaiVm1Pe35e8"
      }
    },
    {
      "cell_type": "markdown",
      "source": [
        "TASK - 1 :- Create a pandas dataframe (DataFrame name as 'df') with numpy random values (4 features and 4 observation)"
      ],
      "metadata": {
        "id": "eohc4KgzzrZK"
      }
    },
    {
      "cell_type": "code",
      "source": [
        "import pandas as pd\n",
        "import numpy as np"
      ],
      "metadata": {
        "id": "MsC5oPRo4Do8"
      },
      "execution_count": 2,
      "outputs": []
    },
    {
      "cell_type": "code",
      "source": [
        "np.random.seed(40)\n",
        "data=np.random.rand(4, 4)\n",
        "data[data < 0.3] = np.nan\n",
        "df=pd.DataFrame(data, columns=['feature1', 'feature2', 'feature3', 'feature4'])\n",
        "print(df)"
      ],
      "metadata": {
        "colab": {
          "base_uri": "https://localhost:8080/"
        },
        "id": "fnM-d7GB38Co",
        "outputId": "a8159cad-8389-4b28-c9ef-8ebe08ca867a"
      },
      "execution_count": 6,
      "outputs": [
        {
          "output_type": "stream",
          "name": "stdout",
          "text": [
            "   feature1  feature2  feature3  feature4\n",
            "0  0.407687       NaN  0.788535       NaN\n",
            "1  0.450351  0.303912  0.526400  0.623812\n",
            "2  0.776775  0.686242  0.980939  0.600816\n",
            "3  0.813969  0.708645       NaN  0.904267\n"
          ]
        }
      ]
    },
    {
      "cell_type": "markdown",
      "source": [
        "TASK - 2 :- Rename the task - 1 'df' dataframe column names to 'Random value 1', 'Random value 2', 'Random value 3' & 'Random value 4'"
      ],
      "metadata": {
        "id": "ckCG0vVl43zd"
      }
    },
    {
      "cell_type": "code",
      "source": [
        "new_column_names={'feature1': 'value 1','feature2': 'value 2','feature3': 'value 3','feature4': 'value 4'}\n",
        "df.rename(columns=new_column_names,inplace=True)\n",
        "print(df)\n"
      ],
      "metadata": {
        "colab": {
          "base_uri": "https://localhost:8080/"
        },
        "id": "YHF---Lk3_Hx",
        "outputId": "3c18d136-7f0f-4dde-f7d0-debe3a6fa2e5"
      },
      "execution_count": 8,
      "outputs": [
        {
          "output_type": "stream",
          "name": "stdout",
          "text": [
            "    value 1   value 2   value 3   value 4\n",
            "0  0.407687       NaN  0.788535       NaN\n",
            "1  0.450351  0.303912  0.526400  0.623812\n",
            "2  0.776775  0.686242  0.980939  0.600816\n",
            "3  0.813969  0.708645       NaN  0.904267\n"
          ]
        }
      ]
    },
    {
      "cell_type": "markdown",
      "source": [
        "TASK - 3 :- Find the descriptive statistics of the 'df' dataframe."
      ],
      "metadata": {
        "id": "6Y7IHqK55h_n"
      }
    },
    {
      "cell_type": "code",
      "source": [
        "desc_stat=df.describe()\n",
        "print(desc_stat)"
      ],
      "metadata": {
        "colab": {
          "base_uri": "https://localhost:8080/"
        },
        "id": "fn-s-E615Umz",
        "outputId": "7f400e0c-84a7-4dff-f5cb-d80783cf31db"
      },
      "execution_count": 9,
      "outputs": [
        {
          "output_type": "stream",
          "name": "stdout",
          "text": [
            "        value 1   value 2   value 3   value 4\n",
            "count  4.000000  3.000000  3.000000  3.000000\n",
            "mean   0.612195  0.566266  0.765291  0.709632\n",
            "std    0.212772  0.227481  0.228159  0.168951\n",
            "min    0.407687  0.303912  0.526400  0.600816\n",
            "25%    0.439685  0.495077  0.657467  0.612314\n",
            "50%    0.613563  0.686242  0.788535  0.623812\n",
            "75%    0.786074  0.697443  0.884737  0.764040\n",
            "max    0.813969  0.708645  0.980939  0.904267\n"
          ]
        }
      ]
    },
    {
      "cell_type": "markdown",
      "source": [
        "TASK - 4 :- Check for the null values in 'df' and find the data type of the columns"
      ],
      "metadata": {
        "id": "iJIcGRSJ5qEG"
      }
    },
    {
      "cell_type": "code",
      "source": [
        "null_values=df.isnull().any()\n",
        "print(null_values)\n",
        "data_types=df.dtypes\n",
        "print(data_types)\n"
      ],
      "metadata": {
        "colab": {
          "base_uri": "https://localhost:8080/"
        },
        "id": "OSpOxUBp5mg-",
        "outputId": "72f5887f-d925-4ff1-8621-d6c855493007"
      },
      "execution_count": 10,
      "outputs": [
        {
          "output_type": "stream",
          "name": "stdout",
          "text": [
            "value 1    False\n",
            "value 2     True\n",
            "value 3     True\n",
            "value 4     True\n",
            "dtype: bool\n",
            "value 1    float64\n",
            "value 2    float64\n",
            "value 3    float64\n",
            "value 4    float64\n",
            "dtype: object\n"
          ]
        }
      ]
    },
    {
      "cell_type": "markdown",
      "source": [
        "TASK - 5 :- Display the 'Random value 2' & 'Random value 3' columns with location method and index location method"
      ],
      "metadata": {
        "id": "ddinwRIh5_8w"
      }
    },
    {
      "cell_type": "code",
      "source": [
        "location=df.loc[:,['value 2','value 3']]\n",
        "print(location)\n",
        "\n",
        "index_location= df.iloc[:,[1, 2]]\n",
        "print(index_location)"
      ],
      "metadata": {
        "colab": {
          "base_uri": "https://localhost:8080/"
        },
        "id": "VM7q72Wa57-8",
        "outputId": "b68ca677-2473-4059-d4a3-055445c5a8ac"
      },
      "execution_count": 13,
      "outputs": [
        {
          "output_type": "stream",
          "name": "stdout",
          "text": [
            "    value 2   value 3\n",
            "0       NaN  0.788535\n",
            "1  0.303912  0.526400\n",
            "2  0.686242  0.980939\n",
            "3  0.708645       NaN\n",
            "    value 2   value 3\n",
            "0       NaN  0.788535\n",
            "1  0.303912  0.526400\n",
            "2  0.686242  0.980939\n",
            "3  0.708645       NaN\n"
          ]
        }
      ]
    }
  ]
}